{
 "cells": [
  {
   "cell_type": "code",
   "execution_count": 8,
   "id": "0a0cc84b-b166-44e3-8cdf-85756a623d50",
   "metadata": {},
   "outputs": [],
   "source": [
    "import numpy as np\n",
    "from sklearn.metrics import pairwise_distances\n",
    "from sklearn.preprocessing import normalize\n",
    "from sklearn.metrics import jaccard_score\n",
    "import pandas as pd\n",
    "from sklearn.preprocessing import StandardScaler\n",
    "from sklearn.metrics.pairwise import cosine_similarity\n",
    "import matplotlib.pyplot as plt\n",
    "from sklearn.metrics import accuracy_score\n",
    "from scipy.stats import mode"
   ]
  },
  {
   "cell_type": "code",
   "execution_count": 9,
   "id": "059be5a9-3d3e-454b-902e-fabd0c1f98d0",
   "metadata": {},
   "outputs": [],
   "source": [
    "import pandas as pd\n",
    "from sklearn.preprocessing import StandardScaler\n",
    "\n",
    "data_file_path = '/Users/asish/Documents/F drive/Future/CSE572_DM/Homework/HW3/kmeans_data/data.csv'\n",
    "data_df = pd.read_csv(data_file_path)\n",
    "\n",
    "label_file_path = '/Users/asish/Documents/F drive/Future/CSE572_DM/Homework/HW3/kmeans_data/label.csv'\n",
    "label_df = pd.read_csv(label_file_path)\n",
    "cluster_labels = label_df.values\n",
    "\n",
    "features = data_df.values\n",
    "\n",
    "scaler = StandardScaler()\n",
    "features_standardized = scaler.fit_transform(features)\n"
   ]
  },
  {
   "cell_type": "code",
   "execution_count": 13,
   "id": "b8be8205-c62b-42dd-a164-47e1776bf918",
   "metadata": {},
   "outputs": [],
   "source": [
    "import numpy as np\n",
    "from sklearn.metrics.pairwise import pairwise_distances, cosine_similarity\n",
    "\n",
    "class KMeans:\n",
    "    def __init__(self, num_clusters, similarity='euclidean', max_iters=500, tol=1e-4):\n",
    "        self.num_clusters = num_clusters\n",
    "        self.similarity = similarity\n",
    "        self.max_iters = max_iters\n",
    "        self.tol = tol\n",
    "\n",
    "    @staticmethod\n",
    "    def jaccard_similarity(vector_a, vector_b):\n",
    "        \"\"\"Compute Jaccard similarity between two vectors.\"\"\"\n",
    "        intersection = np.sum(np.minimum(vector_a, vector_b))\n",
    "        union = np.sum(np.maximum(vector_a, vector_b))\n",
    "        return intersection / union if union != 0 else 0\n",
    "\n",
    "    def _compute_distances(self, data, centroids):\n",
    "        if self.similarity == 'euclidean':\n",
    "            return pairwise_distances(data, centroids, metric='euclidean')\n",
    "        elif self.similarity == 'cosine':\n",
    "            return 1 - cosine_similarity(data, centroids)\n",
    "        elif self.similarity == 'jaccard':\n",
    "            distances = np.zeros((len(data), self.num_clusters))\n",
    "            for i in range(len(data)):\n",
    "                for j, centroid in enumerate(centroids):\n",
    "                    distances[i, j] = 1 - self.jaccard_similarity(data[i], centroid)\n",
    "            return distances\n",
    "\n",
    "    def fit(self, data):\n",
    "        # Initialize centroids randomly\n",
    "        centroids = data[np.random.choice(data.shape[0], self.num_clusters, replace=False)]\n",
    "        prev_sse = np.inf  # Initialize SSE to infinity for the first iteration\n",
    "        \n",
    "        # Iterating until convergence or maximum iterations reached\n",
    "        for _ in range(self.max_iters):\n",
    "            # Compute distances from data points to centroids\n",
    "            distances = self._compute_distances(data, centroids)\n",
    "\n",
    "            # Assign each data point to the closest centroid\n",
    "            labels = np.argmin(distances, axis=1)\n",
    "            \n",
    "            # Update centroids\n",
    "            new_centroids = np.zeros((self.num_clusters, data.shape[1]))\n",
    "            for i in range(self.num_clusters):\n",
    "                new_centroids[i] = np.mean(data[labels == i], axis=0)\n",
    "            \n",
    "            # Calculate SSE\n",
    "            sse = 0\n",
    "            for i in range(self.num_clusters):\n",
    "                sse += np.sum((data[labels == i] - new_centroids[i])**2)\n",
    "            \n",
    "            # Check convergence criteria\n",
    "            if np.linalg.norm(new_centroids - centroids) < self.tol or sse > prev_sse:\n",
    "                break\n",
    "            \n",
    "            prev_sse = sse  # Update SSE for the next iteration\n",
    "            \n",
    "            # Update centroids for the next iteration\n",
    "            centroids = new_centroids\n",
    "        \n",
    "        self.centroids = centroids\n",
    "        self.labels = labels\n",
    "        self.sse = sse\n",
    "        self.iterations = _ + 1  # Increment iteration count\n",
    "\n",
    "        return self.centroids, self.labels, self.sse, self.iterations\n"
   ]
  },
  {
   "cell_type": "code",
   "execution_count": 14,
   "id": "251309f0-6f91-4626-9744-f776d044d709",
   "metadata": {},
   "outputs": [
    {
     "name": "stderr",
     "output_type": "stream",
     "text": [
      "/var/folders/5g/hkx86931401f03w4p23zrc5w0000gn/T/ipykernel_10901/3921122653.py:28: RuntimeWarning: Mean of empty slice.\n",
      "  new_centroids = np.array([data[labels == i].mean(axis=0) for i in range(num_clusters)])\n",
      "/opt/anaconda3/lib/python3.11/site-packages/numpy/core/_methods.py:121: RuntimeWarning: invalid value encountered in divide\n",
      "  ret = um.true_divide(\n"
     ]
    }
   ],
   "source": [
    "k = len(np.unique(cluster_labels[:, 0]))\n",
    "\n",
    "# Apply k-means with Euclidean similarity\n",
    "centroids_euclidean, labels_euclidean, sse_euclidean, iterations_euclidean = kmeans(features_standardized, k, similarity='euclidean')\n",
    "\n",
    "# Apply k-means with Cosine similarity\n",
    "centroids_cosine, labels_cosine, sse_cosine, iterations_cosine = kmeans(features_standardized, k, similarity='cosine')\n",
    "\n",
    "# Apply k-means with Jaccard similarity\n",
    "centroids_jaccard, labels_jaccard, sse_jaccard, iterations_jaccard = kmeans(features_standardized, k, similarity='jaccard')\n"
   ]
  },
  {
   "cell_type": "code",
   "execution_count": 15,
   "id": "81af1127-f164-43b2-b919-bb992d852647",
   "metadata": {},
   "outputs": [
    {
     "name": "stdout",
     "output_type": "stream",
     "text": [
      "Iterations for convergence:\n",
      "Euclidean: 62\n",
      "Cosine: 32\n",
      "Jaccard: 2\n"
     ]
    }
   ],
   "source": [
    "# Print the number of iterations taken for convergence\n",
    "print(\"Iterations for convergence:\")\n",
    "print(\"Euclidean:\", iterations_euclidean)\n",
    "print(\"Cosine:\", iterations_cosine)\n",
    "print(\"Jaccard:\", iterations_jaccard)"
   ]
  },
  {
   "cell_type": "code",
   "execution_count": null,
   "id": "127c1543-8b70-4031-9236-c1630d7fece7",
   "metadata": {},
   "outputs": [],
   "source": []
  }
 ],
 "metadata": {
  "kernelspec": {
   "display_name": "Python 3 (ipykernel)",
   "language": "python",
   "name": "python3"
  },
  "language_info": {
   "codemirror_mode": {
    "name": "ipython",
    "version": 3
   },
   "file_extension": ".py",
   "mimetype": "text/x-python",
   "name": "python",
   "nbconvert_exporter": "python",
   "pygments_lexer": "ipython3",
   "version": "3.11.7"
  }
 },
 "nbformat": 4,
 "nbformat_minor": 5
}

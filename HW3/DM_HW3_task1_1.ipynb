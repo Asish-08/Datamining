{
 "cells": [
  {
   "cell_type": "markdown",
   "id": "11a29274-df25-45fd-8adc-30b564b81589",
   "metadata": {},
   "source": [
    "# Question 1"
   ]
  },
  {
   "cell_type": "code",
   "execution_count": 1,
   "id": "0bf3b30f-bb74-4f0b-87e6-208d7f1531e2",
   "metadata": {},
   "outputs": [],
   "source": [
    "import pandas as pd\n",
    "import numpy as np\n",
    "from sklearn.preprocessing import StandardScaler\n",
    "from sklearn.metrics import pairwise_distances\n",
    "from sklearn.metrics.pairwise import cosine_similarity\n",
    "from sklearn.metrics import jaccard_score\n",
    "import matplotlib.pyplot as plt\n",
    "from sklearn.metrics import accuracy_score\n",
    "from scipy.stats import mode"
   ]
  },
  {
   "cell_type": "code",
   "execution_count": 2,
   "id": "f7107637-80a7-4a82-b401-87468b2b4c50",
   "metadata": {},
   "outputs": [],
   "source": [
    "# File paths for data and labels\n",
    "file1 = '/Users/asish/Documents/F drive/Future/CSE572_DM/Homework/HW3/kmeans_data/data.csv'\n",
    "file2 = '/Users/asish/Documents/F drive/Future/CSE572_DM/Homework/HW3/kmeans_data/label.csv'\n",
    "\n",
    "# read data from CSV files\n",
    "data_read = pd.read_csv(file1) \n",
    "label_read = pd.read_csv(file2)\n",
    "\n",
    "# convert dataframes to numpy arrays\n",
    "label_features = label_read.values\n",
    "data_features = data_read.values\n",
    "\n",
    "# Standardize features using StandardScaler\n",
    "scaled_values = StandardScaler()\n",
    "features_standardized = scaled_values.fit_transform(data_features)\n"
   ]
  },
  {
   "cell_type": "code",
   "execution_count": 3,
   "id": "5ef555bd-5415-41ac-8cb4-8e55e0ef3270",
   "metadata": {},
   "outputs": [],
   "source": [
    "# Define Jaccard similarity calculation function\n",
    "def calculate_jaccard_similarity(a, b):\n",
    "    # Calculate the intersection of binary vectors\n",
    "    binary_inter = np.sum(np.logical_and(a, b))\n",
    "    \n",
    "    # Calculate the union of binary vectors\n",
    "    binary_union = np.sum(np.logical_or(a, b))\n",
    "    \n",
    "    # Calculate Jaccard similarity coefficient\n",
    "    jaccard_similarity = binary_inter / binary_union if binary_union != 0 else 0\n",
    "    \n",
    "    return jaccard_similarity\n",
    "\n",
    "# Define k-means function\n",
    "def kmeans(X, k, similarity='euclidean', max_iters=100):\n",
    "    # Step 1: Initialize centroids randomly\n",
    "    centroids = X[np.random.choice(len(X), k, replace=False)]\n",
    "    \n",
    "    # Iteration loop\n",
    "    for _ in range(max_iters):\n",
    "        # Step 2: Calculate distances based on chosen similarity metric\n",
    "        if similarity == 'euclidean':\n",
    "            dist = pairwise_distances(X, centroids, metric='euclidean')\n",
    "        elif similarity == 'cosine':\n",
    "            dist = 1 - cosine_similarity(X, centroids)\n",
    "        elif similarity == 'jaccard':\n",
    "            # Calculate Jaccard distances\n",
    "            dist = []\n",
    "            for i in range(len(X)):\n",
    "                for c in centroids:\n",
    "                    d = 1 - calculate_jaccard_similarity(X[i], c)\n",
    "                    dist.append(d)\n",
    "            dist = np.array(dist)\n",
    "            dist = dist.reshape(len(X), k)\n",
    "        else:\n",
    "            raise ValueError(\"The chosen metric is not valid. Use either 'euclidean', 'cosine', or 'jaccard'.\")\n",
    "        \n",
    "        # Step 3: Assign labels based on minimum distances\n",
    "        labels_min = np.argmin(dist, axis=1)\n",
    "        \n",
    "        # Step 4: Calculate new centroids\n",
    "        centroids_new = []\n",
    "        for i in range(k):\n",
    "            if np.sum(labels_min == i) > 0:\n",
    "                centroid_mean = X[labels_min == i].mean(axis=0)\n",
    "                centroids_new.append(centroid_mean)\n",
    "            else:\n",
    "                centroid_random = X[np.random.choice(len(X))]\n",
    "                centroids_new.append(centroid_random)\n",
    "        centroids_new = np.array(centroids_new)\n",
    "\n",
    "        # Step 5: Check convergence\n",
    "        if np.all(centroids_new == centroids):\n",
    "            break\n",
    "        \n",
    "        centroids = centroids_new\n",
    "    \n",
    "    # Step 6: Calculate sum of squared errors (SSE)\n",
    "    SSE = np.sum((X - centroids[labels_min]) ** 2)\n",
    "    \n",
    "    # Step 7: Return centroids, labels, and SSE\n",
    "    return centroids, labels_min, SSE\n"
   ]
  },
  {
   "cell_type": "code",
   "execution_count": 4,
   "id": "0afd200c-edc8-41ba-8f7d-ff91dc9441f1",
   "metadata": {},
   "outputs": [
    {
     "name": "stdout",
     "output_type": "stream",
     "text": [
      "SSE (Euclidean): 5579767.629608584\n",
      "SSE (Cosine): 5590735.097939788\n",
      "SSE (Jaccard): 6679332.000000004\n"
     ]
    }
   ],
   "source": [
    "# Apply k-means with Euclidean similarity\n",
    "k_euclidean = len(label_read['7'].unique())\n",
    "centroids_euclidean, labels_euclidean, sse_euclidean = kmeans(features_standardized, k_euclidean, similarity='euclidean')\n",
    "print(\"SSE (Euclidean):\", sse_euclidean)\n",
    "\n",
    "# Apply k-means with Cosine similarity\n",
    "k_cosine = len(label_read['7'].unique())\n",
    "centroids_cosine, labels_cosine, sse_cosine = kmeans(features_standardized, k_cosine, similarity='cosine')\n",
    "print(\"SSE (Cosine):\", sse_cosine)\n",
    "\n",
    "# Apply k-means with Jaccard similarity\n",
    "k_jaccard = len(label_read['7'].unique())\n",
    "centroids_jaccard, labels_jaccard, sse_jaccard = kmeans(features_standardized, k_jaccard, similarity='jaccard')\n",
    "print(\"SSE (Jaccard):\", sse_jaccard)\n"
   ]
  },
  {
   "cell_type": "code",
   "execution_count": null,
   "id": "374fe3c7-83be-460f-adc1-8a1a5a6f0db8",
   "metadata": {},
   "outputs": [],
   "source": []
  }
 ],
 "metadata": {
  "kernelspec": {
   "display_name": "Python 3 (ipykernel)",
   "language": "python",
   "name": "python3"
  },
  "language_info": {
   "codemirror_mode": {
    "name": "ipython",
    "version": 3
   },
   "file_extension": ".py",
   "mimetype": "text/x-python",
   "name": "python",
   "nbconvert_exporter": "python",
   "pygments_lexer": "ipython3",
   "version": "3.11.7"
  }
 },
 "nbformat": 4,
 "nbformat_minor": 5
}
